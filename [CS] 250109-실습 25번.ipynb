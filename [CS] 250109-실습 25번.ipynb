{
  "nbformat": 4,
  "nbformat_minor": 0,
  "metadata": {
    "colab": {
      "provenance": [],
      "authorship_tag": "ABX9TyMDxpBnUT3As6AoxmWVB275",
      "include_colab_link": true
    },
    "kernelspec": {
      "name": "python3",
      "display_name": "Python 3"
    },
    "language_info": {
      "name": "python"
    }
  },
  "cells": [
    {
      "cell_type": "markdown",
      "metadata": {
        "id": "view-in-github",
        "colab_type": "text"
      },
      "source": [
        "<a href=\"https://colab.research.google.com/github/jihyun0821/DAOU-FITs-3-PARKJIHYUN/blob/%EC%8B%A4%EC%8A%B5/%5BCS%5D%20250109-%EC%8B%A4%EC%8A%B5%2025%EB%B2%88.ipynb\" target=\"_parent\"><img src=\"https://colab.research.google.com/assets/colab-badge.svg\" alt=\"Open In Colab\"/></a>"
      ]
    },
    {
      "cell_type": "markdown",
      "source": [
        "# 데이터 로딩"
      ],
      "metadata": {
        "id": "OjuqJa_Uq2rB"
      }
    },
    {
      "cell_type": "code",
      "source": [
        "import sklearn.model_selection\n",
        "import sklearn.preprocessing\n",
        "import sklearn.metrics\n",
        "\n",
        "data = pd.read_csv('customer_churn_data.csv')\n",
        "\n",
        "# 데이터 확인\n",
        "print(data.head())\n",
        "\n",
        "# 결측값 확인\n",
        "print(data.isna().sum())"
      ],
      "metadata": {
        "colab": {
          "base_uri": "https://localhost:8080/"
        },
        "id": "f9ID7BhYp6gE",
        "outputId": "230e072e-e38e-4907-feb5-0b16e693c4d7"
      },
      "execution_count": null,
      "outputs": [
        {
          "output_type": "stream",
          "name": "stdout",
          "text": [
            "   customer_id  age  tenure       balance  num_products  has_credit_card  \\\n",
            "0            1   56       3   6151.741470             1                1   \n",
            "1            2   69       3  11917.386876             1                0   \n",
            "2            3   46       9   9859.133095             1                0   \n",
            "3            4   32       7  13735.355961             1                1   \n",
            "4            5   60       5  18671.892903             1                1   \n",
            "\n",
            "   is_active_member  estimated_salary  churn  \n",
            "0                 0      51227.634099      0  \n",
            "1                 1     148480.339030      0  \n",
            "2                 0      83292.426829      0  \n",
            "3                 1      93824.611981      0  \n",
            "4                 0     134834.223448      0  \n",
            "customer_id         0\n",
            "age                 0\n",
            "tenure              0\n",
            "balance             0\n",
            "num_products        0\n",
            "has_credit_card     0\n",
            "is_active_member    0\n",
            "estimated_salary    0\n",
            "churn               0\n",
            "dtype: int64\n"
          ]
        }
      ]
    },
    {
      "cell_type": "markdown",
      "source": [
        "# 전처리"
      ],
      "metadata": {
        "id": "n2mvNZleq-BG"
      }
    },
    {
      "cell_type": "code",
      "source": [
        "# 특징 및 라벨 분리\n",
        "X = data.drop('churn', axis=1)\n",
        "y = data['churn']\n",
        "\n",
        "# 범주형 변수 처리 - One-Hot Encoding\n",
        "# categorical_cols = ['num_products', 'has_credit_card', 'is_active_member']\n",
        "# X = pd.get_dummies(X, columns=categorical_cols, drop_first=True)\n",
        "\n",
        "# 데이터 분할\n",
        "X_train, X_test, y_train, y_test = sklearn.model_selection.train_test_split(X, y, test_size=0.2, random_state=42)\n",
        "\n",
        "# 데이터 표준화\n",
        "# 계량형 - StandardScaler, 분류형 - MinMaxScaler\n",
        "scaler = sklearn.preprocessing.MinMaxScaler()\n",
        "X_train = scaler.fit_transform(X_train)\n",
        "X_test = scaler.transform(X_test)"
      ],
      "metadata": {
        "id": "tZ7lRZVuq8FO"
      },
      "execution_count": null,
      "outputs": []
    },
    {
      "cell_type": "code",
      "source": [
        "plt.boxplot(X_train)"
      ],
      "metadata": {
        "colab": {
          "base_uri": "https://localhost:8080/",
          "height": 1000
        },
        "id": "xkj1xQQq2eAL",
        "outputId": "a96810ad-cdf1-4a61-a95f-83f503b95ca7"
      },
      "execution_count": null,
      "outputs": [
        {
          "output_type": "execute_result",
          "data": {
            "text/plain": [
              "{'whiskers': [<matplotlib.lines.Line2D at 0x7a110ac1f550>,\n",
              "  <matplotlib.lines.Line2D at 0x7a110bc7f160>,\n",
              "  <matplotlib.lines.Line2D at 0x7a110bc7fd30>,\n",
              "  <matplotlib.lines.Line2D at 0x7a110bc7f9d0>,\n",
              "  <matplotlib.lines.Line2D at 0x7a110bc7e7a0>,\n",
              "  <matplotlib.lines.Line2D at 0x7a110bc7f880>,\n",
              "  <matplotlib.lines.Line2D at 0x7a110d01e3b0>,\n",
              "  <matplotlib.lines.Line2D at 0x7a110d01e3e0>,\n",
              "  <matplotlib.lines.Line2D at 0x7a110e307190>,\n",
              "  <matplotlib.lines.Line2D at 0x7a110cc25b10>,\n",
              "  <matplotlib.lines.Line2D at 0x7a110d067100>,\n",
              "  <matplotlib.lines.Line2D at 0x7a110d067610>,\n",
              "  <matplotlib.lines.Line2D at 0x7a110b036fb0>,\n",
              "  <matplotlib.lines.Line2D at 0x7a110b037160>,\n",
              "  <matplotlib.lines.Line2D at 0x7a110b035f00>,\n",
              "  <matplotlib.lines.Line2D at 0x7a110b037c40>],\n",
              " 'caps': [<matplotlib.lines.Line2D at 0x7a110bc7ff70>,\n",
              "  <matplotlib.lines.Line2D at 0x7a110bc7cac0>,\n",
              "  <matplotlib.lines.Line2D at 0x7a110bc7cd60>,\n",
              "  <matplotlib.lines.Line2D at 0x7a110bc7f1c0>,\n",
              "  <matplotlib.lines.Line2D at 0x7a110bc7d0f0>,\n",
              "  <matplotlib.lines.Line2D at 0x7a110d01d360>,\n",
              "  <matplotlib.lines.Line2D at 0x7a110d01d0f0>,\n",
              "  <matplotlib.lines.Line2D at 0x7a110d01d240>,\n",
              "  <matplotlib.lines.Line2D at 0x7a110bf83b80>,\n",
              "  <matplotlib.lines.Line2D at 0x7a110d066560>,\n",
              "  <matplotlib.lines.Line2D at 0x7a110d066d10>,\n",
              "  <matplotlib.lines.Line2D at 0x7a110d067f70>,\n",
              "  <matplotlib.lines.Line2D at 0x7a110b035d80>,\n",
              "  <matplotlib.lines.Line2D at 0x7a110b036d10>,\n",
              "  <matplotlib.lines.Line2D at 0x7a110b035c00>,\n",
              "  <matplotlib.lines.Line2D at 0x7a110b034f10>],\n",
              " 'boxes': [<matplotlib.lines.Line2D at 0x7a110ac1f280>,\n",
              "  <matplotlib.lines.Line2D at 0x7a110bc7e920>,\n",
              "  <matplotlib.lines.Line2D at 0x7a110bc7da80>,\n",
              "  <matplotlib.lines.Line2D at 0x7a110d01cf70>,\n",
              "  <matplotlib.lines.Line2D at 0x7a110e304b20>,\n",
              "  <matplotlib.lines.Line2D at 0x7a110d066cb0>,\n",
              "  <matplotlib.lines.Line2D at 0x7a110b0364a0>,\n",
              "  <matplotlib.lines.Line2D at 0x7a110b034100>],\n",
              " 'medians': [<matplotlib.lines.Line2D at 0x7a110bc7e590>,\n",
              "  <matplotlib.lines.Line2D at 0x7a110bc7f4f0>,\n",
              "  <matplotlib.lines.Line2D at 0x7a110d01e500>,\n",
              "  <matplotlib.lines.Line2D at 0x7a110d01df00>,\n",
              "  <matplotlib.lines.Line2D at 0x7a110d067070>,\n",
              "  <matplotlib.lines.Line2D at 0x7a110d0666e0>,\n",
              "  <matplotlib.lines.Line2D at 0x7a110b036e00>,\n",
              "  <matplotlib.lines.Line2D at 0x7a110b036110>],\n",
              " 'fliers': [<matplotlib.lines.Line2D at 0x7a110bc7eef0>,\n",
              "  <matplotlib.lines.Line2D at 0x7a110bc7cd00>,\n",
              "  <matplotlib.lines.Line2D at 0x7a110d01e140>,\n",
              "  <matplotlib.lines.Line2D at 0x7a110e307550>,\n",
              "  <matplotlib.lines.Line2D at 0x7a110d066620>,\n",
              "  <matplotlib.lines.Line2D at 0x7a110df082e0>,\n",
              "  <matplotlib.lines.Line2D at 0x7a110b034fa0>,\n",
              "  <matplotlib.lines.Line2D at 0x7a110b037d90>],\n",
              " 'means': []}"
            ]
          },
          "metadata": {},
          "execution_count": 25
        },
        {
          "output_type": "display_data",
          "data": {
            "text/plain": [
              "<Figure size 640x480 with 1 Axes>"
            ],
            "image/png": "[encoded data removed]"
          },
          "metadata": {}
        }
      ]
    },
    {
      "cell_type": "markdown",
      "source": [
        "# Logistic Regression"
      ],
      "metadata": {
        "id": "mSDx_8IF61Bo"
      }
    },
    {
      "cell_type": "code",
      "source": [
        "from sklearn.linear_model import LogisticRegression\n",
        "from sklearn.metrics import accuracy_score, classification_report, confusion_matrix\n",
        "\n",
        "# train model\n",
        "model = LogisticRegression()\n",
        "model.fit(X_train, y_train)\n",
        "\n",
        "# predict\n",
        "y_pred = model.predict(X_test)\n",
        "\n",
        "# evaluate\n",
        "print(\"Accuracy:\", accuracy_score(y_test, y_pred))\n",
        "print(\"Classification Report:\\n\", classification_report(y_test, y_pred))\n",
        "print(\"Confusion Matrix:\\n\", confusion_matrix(y_test, y_pred))"
      ],
      "metadata": {
        "colab": {
          "base_uri": "https://localhost:8080/"
        },
        "id": "G463oY3-29Oy",
        "outputId": "2b4fc372-45aa-4b9c-d4f8-183806748b9c"
      },
      "execution_count": null,
      "outputs": [
        {
          "output_type": "stream",
          "name": "stdout",
          "text": [
            "Accuracy: 0.79\n",
            "Classification Report:\n",
            "               precision    recall  f1-score   support\n",
            "\n",
            "           0       0.79      1.00      0.88       158\n",
            "           1       0.00      0.00      0.00        42\n",
            "\n",
            "    accuracy                           0.79       200\n",
            "   macro avg       0.40      0.50      0.44       200\n",
            "weighted avg       0.62      0.79      0.70       200\n",
            "\n",
            "Confusion Matrix:\n",
            " [[158   0]\n",
            " [ 42   0]]\n"
          ]
        }
      ]
    },
    {
      "cell_type": "markdown",
      "source": [
        "# Random Forest"
      ],
      "metadata": {
        "id": "UkeoQqKV7Dv-"
      }
    },
    {
      "cell_type": "code",
      "source": [
        "from sklearn.ensemble import RandomForestClassifier\n",
        "from sklearn.metrics import accuracy_score, classification_report, confusion_matrix\n",
        "\n",
        "# train model\n",
        "rf_model = RandomForestClassifier()\n",
        "rf_model.fit(X_train, y_train)\n",
        "\n",
        "# predict\n",
        "rf_pred = rf_model.predict(X_test)\n",
        "\n",
        "# evaluate\n",
        "print(\"Accuracy:\", accuracy_score(y_test, rf_pred))\n",
        "print(\"Classification Report:\\n\", classification_report(y_test, rf_pred))\n",
        "print(\"Confusion Matrix:\\n\", confusion_matrix(y_test, rf_pred))"
      ],
      "metadata": {
        "colab": {
          "base_uri": "https://localhost:8080/"
        },
        "id": "47a1ZQwQ7Czi",
        "outputId": "d9d0b611-d2a3-4c53-aa9a-796a63dd099e"
      },
      "execution_count": null,
      "outputs": [
        {
          "output_type": "stream",
          "name": "stdout",
          "text": [
            "Accuracy: 0.79\n",
            "Classification Report:\n",
            "               precision    recall  f1-score   support\n",
            "\n",
            "           0       0.79      0.99      0.88       158\n",
            "           1       0.50      0.02      0.05        42\n",
            "\n",
            "    accuracy                           0.79       200\n",
            "   macro avg       0.65      0.51      0.46       200\n",
            "weighted avg       0.73      0.79      0.71       200\n",
            "\n",
            "Confusion Matrix:\n",
            " [[157   1]\n",
            " [ 41   1]]\n"
          ]
        }
      ]
    },
    {
      "cell_type": "markdown",
      "source": [
        "# Performance"
      ],
      "metadata": {
        "id": "oGaqRCLu7W6f"
      }
    },
    {
      "cell_type": "code",
      "source": [
        "# visualize confusion matrix\n",
        "cm = confusion_matrix(y_test, y_pred)\n",
        "sns.heatmap(cm, annot=True, fmt='d')\n",
        "plt.xlabel('Predicted')\n",
        "plt.ylabel('True')\n",
        "plt.title('Confusion Matrix')\n",
        "plt.show()\n",
        "\n",
        "# Accuracy, Recall, F1-score\n",
        "print(classification_report(y_test, y_pred))\n"
      ],
      "metadata": {
        "colab": {
          "base_uri": "https://localhost:8080/",
          "height": 633
        },
        "id": "6gM24Zd07Qq_",
        "outputId": "453a421e-4f7e-42e2-acc7-7a66019f4e27"
      },
      "execution_count": null,
      "outputs": [
        {
          "output_type": "display_data",
          "data": {
            "text/plain": [
              "<Figure size 640x480 with 2 Axes>"
            ],
            "image/png": "[encoded data removed]"
          },
          "metadata": {}
        },
        {
          "output_type": "stream",
          "name": "stdout",
          "text": [
            "              precision    recall  f1-score   support\n",
            "\n",
            "           0       0.79      1.00      0.88       158\n",
            "           1       0.00      0.00      0.00        42\n",
            "\n",
            "    accuracy                           0.79       200\n",
            "   macro avg       0.40      0.50      0.44       200\n",
            "weighted avg       0.62      0.79      0.70       200\n",
            "\n"
          ]
        }
      ]
    },
    {
      "cell_type": "markdown",
      "source": [
        "# Hyperparameter Tuning"
      ],
      "metadata": {
        "id": "GEZTtH7B76Rj"
      }
    },
    {
      "cell_type": "code",
      "source": [
        "from sklearn.model_selection import GridSearchCV\n",
        "\n",
        "# Hyperparameter Grid\n",
        "param_grid = {\n",
        "    'n_estimators': [50, 100, 200],\n",
        "    'max_depth': [10, 20, 30],\n",
        "    'min_samples_split': [2, 5, 10]\n",
        "}\n",
        "\n",
        "# Random Forest Model Tuning\n",
        "grid_search = GridSearchCV(estimator=rf_model, param_grid=param_grid, cv=5, n_jobs=-1, scoring='accuracy')\n",
        "grid_search.fit(X_train, y_train)\n",
        "\n",
        "# Best Parameters\n",
        "print(\"Best Parameters:\", grid_search.best_params_)\n",
        "\n",
        "# Best Model\n",
        "best_rf_model = grid_search.best_estimator_\n",
        "y_pred_tuned = best_rf_model.predict(X_test)\n",
        "\n",
        "# Evaluate Tuned Model\n",
        "print(\"Tuned Accuracy:\", accuracy_score(y_test, y_pred_tuned))"
      ],
      "metadata": {
        "colab": {
          "base_uri": "https://localhost:8080/"
        },
        "id": "Ply5aGMK7yLb",
        "outputId": "3e2e03b9-97a1-435d-94b0-880771483cd1"
      },
      "execution_count": null,
      "outputs": [
        {
          "output_type": "stream",
          "name": "stdout",
          "text": [
            "Best Parameters: {'max_depth': 10, 'min_samples_split': 10, 'n_estimators': 100}\n",
            "Tuned Accuracy: 0.79\n"
          ]
        }
      ]
    },
    {
      "cell_type": "code",
      "source": [
        "import joblib\n",
        "\n",
        "# save model\n",
        "joblib.dump(best_rf_model, 'best_rf_model.pkl')\n",
        "\n",
        "# predict model\n",
        "loaded_model = joblib.load('best_rf_model.pkl')\n",
        "new_pred = loaded_model.predict(X_test)\n",
        "print(f'Predicted Churn: {new_pred[0]}')\n",
        "print(\"Accuracy:\", accuracy_score(y_test, new_pred))\n",
        "\n"
      ],
      "metadata": {
        "colab": {
          "base_uri": "https://localhost:8080/"
        },
        "id": "HXy3tnUG8Zkh",
        "outputId": "8368c3ff-2a4d-4c92-e596-e66d7c68cc53"
      },
      "execution_count": null,
      "outputs": [
        {
          "output_type": "stream",
          "name": "stdout",
          "text": [
            "Predicted Churn: 0\n",
            "Accuracy: 0.79\n"
          ]
        }
      ]
    }
  ]
}