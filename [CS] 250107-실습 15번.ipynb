{
  "nbformat": 4,
  "nbformat_minor": 0,
  "metadata": {
    "colab": {
      "provenance": [],
      "authorship_tag": "ABX9TyPQLt0X6OC8tzcocsO5Fguz",
      "include_colab_link": true
    },
    "kernelspec": {
      "name": "python3",
      "display_name": "Python 3"
    },
    "language_info": {
      "name": "python"
    }
  },
  "cells": [
    {
      "cell_type": "markdown",
      "metadata": {
        "id": "view-in-github",
        "colab_type": "text"
      },
      "source": [
        "<a href=\"https://colab.research.google.com/github/jihyun0821/DAOU-FITs-3-PARKJIHYUN/blob/%EC%8B%A4%EC%8A%B5/%5BCS%5D%20250107-%EC%8B%A4%EC%8A%B5%2015%EB%B2%88.ipynb\" target=\"_parent\"><img src=\"https://colab.research.google.com/assets/colab-badge.svg\" alt=\"Open In Colab\"/></a>"
      ]
    },
    {
      "cell_type": "markdown",
      "source": [
        "# 단일 연결리스트 구현"
      ],
      "metadata": {
        "id": "oTxOxsgTbYMl"
      }
    },
    {
      "cell_type": "code",
      "source": [
        "# 사용 예시\n",
        "sll = SinglyLinkedList()\n",
        "sll.append(1)\n",
        "sll.append(2)\n",
        "sll.append(3)\n",
        "sll.prepend(0)\n",
        "sll.display()  # 0 -> 1 -> 2 -> 3 -> None\n",
        "sll.delete(2)\n",
        "sll.display()  # 0 -> 1 -> 3 -> None"
      ],
      "metadata": {
        "colab": {
          "base_uri": "https://localhost:8080/"
        },
        "id": "GGZyw5SJg4A_",
        "outputId": "013c6635-e0cd-49e1-be3f-a4634c3fd729"
      },
      "execution_count": 35,
      "outputs": [
        {
          "output_type": "stream",
          "name": "stdout",
          "text": [
            "0 -> 1 -> 2 -> 3 -> None\n",
            "0 -> 1 -> 3 -> None\n"
          ]
        }
      ]
    }
  ]
}