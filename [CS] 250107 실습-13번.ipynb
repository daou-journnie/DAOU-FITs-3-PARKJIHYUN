{
  "nbformat": 4,
  "nbformat_minor": 0,
  "metadata": {
    "colab": {
      "provenance": [],
      "authorship_tag": "ABX9TyNBXRRYTDcQ2wzE81Mq1UIM",
      "include_colab_link": true
    },
    "kernelspec": {
      "name": "python3",
      "display_name": "Python 3"
    },
    "language_info": {
      "name": "python"
    }
  },
  "cells": [
    {
      "cell_type": "markdown",
      "metadata": {
        "id": "view-in-github",
        "colab_type": "text"
      },
      "source": [
        "<a href=\"https://colab.research.google.com/github/jihyun0821/DAOU-FITs-3-PARKJIHYUN/blob/%EC%8B%A4%EC%8A%B5/%5BCS%5D%20250107%20%EC%8B%A4%EC%8A%B5-13%EB%B2%88.ipynb\" target=\"_parent\"><img src=\"https://colab.research.google.com/assets/colab-badge.svg\" alt=\"Open In Colab\"/></a>"
      ]
    },
    {
      "cell_type": "markdown",
      "source": [
        "- 배열 요소 추가/삽입"
      ],
      "metadata": {
        "id": "U0irHPSIX_hz"
      }
    },
    {
      "cell_type": "code",
      "execution_count": 13,
      "metadata": {
        "colab": {
          "base_uri": "https://localhost:8080/"
        },
        "id": "a_wmdfVKXOE2",
        "outputId": "38ac401a-b919-4099-88b8-0479f5e4245c"
      },
      "outputs": [
        {
          "output_type": "stream",
          "name": "stdout",
          "text": [
            "[1, 10, 2, 3, 4]\n"
          ]
        }
      ],
      "source": [
        "arr = [1, 2, 3]\n",
        "arr.append(4)\n",
        "arr.insert(1, 10)\n",
        "arr_ones = [1] * 5\n",
        "\n",
        "print(arr)"
      ]
    },
    {
      "cell_type": "markdown",
      "source": [
        "- 배열 요소 삭제"
      ],
      "metadata": {
        "id": "yX8EGPZAY9YS"
      }
    },
    {
      "cell_type": "code",
      "source": [
        "arr = [10, 20, 30, 40, 50]\n",
        "arr.remove(30)\n",
        "arr.pop() # 마지막 요소 삭제\n",
        "arr.pop(0) # 첫번째 요소 삭제"
      ],
      "metadata": {
        "colab": {
          "base_uri": "https://localhost:8080/"
        },
        "id": "MbV1_b-dXdqb",
        "outputId": "b3a04897-b66b-4a65-a794-4300a67481e5"
      },
      "execution_count": 14,
      "outputs": [
        {
          "output_type": "execute_result",
          "data": {
            "text/plain": [
              "10"
            ]
          },
          "metadata": {},
          "execution_count": 14
        }
      ]
    },
    {
      "cell_type": "markdown",
      "source": [
        "- 배열 요소 수정"
      ],
      "metadata": {
        "id": "sknoNB8AYIEX"
      }
    },
    {
      "cell_type": "code",
      "source": [
        "arr = [1, 2, 3, 4, 5]\n",
        "arr[2] = 99\n",
        "\n",
        "print(arr)"
      ],
      "metadata": {
        "colab": {
          "base_uri": "https://localhost:8080/"
        },
        "id": "fSxzFstDXnCG",
        "outputId": "d8709c6a-f8d7-4246-a1fa-8b51626e63f5"
      },
      "execution_count": 15,
      "outputs": [
        {
          "output_type": "stream",
          "name": "stdout",
          "text": [
            "[1, 2, 99, 4, 5]\n"
          ]
        }
      ]
    },
    {
      "cell_type": "markdown",
      "source": [
        "- 배열 합치기"
      ],
      "metadata": {
        "id": "0bsR8uaQYQnS"
      }
    },
    {
      "cell_type": "code",
      "source": [
        "arr1 = [1, 2, 3]\n",
        "arr2 = [4, 5, 6]\n",
        "arr3 = arr1 + arr2\n",
        "arr1.extend(arr2)\n",
        "\n",
        "print(arr3)\n",
        "print(arr1)"
      ],
      "metadata": {
        "colab": {
          "base_uri": "https://localhost:8080/"
        },
        "id": "vVo5BUIoYP7h",
        "outputId": "70111353-9822-45c3-da28-c276b8c29267"
      },
      "execution_count": 16,
      "outputs": [
        {
          "output_type": "stream",
          "name": "stdout",
          "text": [
            "[1, 2, 3, 4, 5, 6]\n",
            "[1, 2, 3, 4, 5, 6]\n"
          ]
        }
      ]
    }
  ]
}