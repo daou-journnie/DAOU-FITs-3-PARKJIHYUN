{
  "nbformat": 4,
  "nbformat_minor": 0,
  "metadata": {
    "colab": {
      "provenance": [],
      "authorship_tag": "ABX9TyNh4odNvfSoy9Ba0+U0okKx",
      "include_colab_link": true
    },
    "kernelspec": {
      "name": "python3",
      "display_name": "Python 3"
    },
    "language_info": {
      "name": "python"
    }
  },
  "cells": [
    {
      "cell_type": "markdown",
      "metadata": {
        "id": "view-in-github",
        "colab_type": "text"
      },
      "source": [
        "<a href=\"https://colab.research.google.com/github/jihyun0821/DAOU-FITs-3-PARKJIHYUN/blob/%EC%8B%A4%EC%8A%B5/%5BCS%5D%20250107%20%EC%8B%A4%EC%8A%B5-15%EB%B2%88.ipynb\" target=\"_parent\"><img src=\"https://colab.research.google.com/assets/colab-badge.svg\" alt=\"Open In Colab\"/></a>"
      ]
    },
    {
      "cell_type": "markdown",
      "source": [
        "# 단일 연결리스트 구현"
      ],
      "metadata": {
        "id": "oTxOxsgTbYMl"
      }
    },
    {
      "cell_type": "code",
      "source": [
        "class Node:\n",
        "  def __init__(self, data):\n",
        "    self.data = data\n",
        "    self.next = None\n",
        "\n",
        "class SinglyLinkedList:\n",
        "  def __init__(self):\n",
        "    self.head = None\n",
        "\n",
        "  def append(self, data):\n",
        "    new_node = Node(data)\n",
        "    if not self.head:\n",
        "      self.head = new_node\n",
        "      return\n",
        "    last = self.head\n",
        "    while last.next:\n",
        "      last = last.next\n",
        "    last.next = new_node\n",
        "\n",
        "  def prepend(self, data):\n",
        "    new_node = Node(data)\n",
        "    new_node.next = self.head\n",
        "    self.head = new_node\n",
        "\n",
        "  def delete(self, data):\n",
        "    temp = self.head\n",
        "    if temp and temp.data == data:\n",
        "      self.head = temp.next\n",
        "      temp = None\n",
        "      return\n",
        "\n",
        "    prev = None\n",
        "    while temp and temp.data != data:\n",
        "      prev = temp\n",
        "      temp = temp.next\n",
        "\n",
        "    if temp is None:\n",
        "      return\n",
        "\n",
        "    prev.next = temp.next\n",
        "    temp = None\n",
        "\n",
        "  def display(self):\n",
        "      temp = self.head\n",
        "      while temp:\n",
        "          print(temp.data, end=\" -> \")\n",
        "          temp = temp.next\n",
        "      print(\"None\")"
      ],
      "metadata": {
        "id": "axn9peRhbaff"
      },
      "execution_count": 30,
      "outputs": []
    },
    {
      "cell_type": "code",
      "source": [
        "# 사용 예시\n",
        "\n",
        "sll = SinglyLinkedList()\n",
        "sll.append(1)\n",
        "sll.append(2)\n",
        "sll.append(3)\n",
        "sll.prepend(0)\n",
        "sll.display()  # 0 -> 1 -> 2 -> 3 -> None\n",
        "sll.delete(2)\n",
        "sll.display()  # 0 -> 1 -> 3 -> None"
      ],
      "metadata": {
        "colab": {
          "base_uri": "https://localhost:8080/"
        },
        "id": "GGZyw5SJg4A_",
        "outputId": "bf614323-42fa-43e5-a9e1-4391b89f860e"
      },
      "execution_count": null,
      "outputs": [
        {
          "output_type": "stream",
          "name": "stdout",
          "text": [
            "0 -> 1 -> 2 -> 3 -> None\n",
            "0 -> 1 -> 3 -> None\n"
          ]
        }
      ]
    }
  ]
}