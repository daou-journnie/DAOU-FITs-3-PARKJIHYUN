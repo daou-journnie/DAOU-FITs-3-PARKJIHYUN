{
  "nbformat": 4,
  "nbformat_minor": 0,
  "metadata": {
    "colab": {
      "provenance": [],
      "authorship_tag": "ABX9TyOldxqAzWrPwUtjv2fXl52z",
      "include_colab_link": true
    },
    "kernelspec": {
      "name": "python3",
      "display_name": "Python 3"
    },
    "language_info": {
      "name": "python"
    }
  },
  "cells": [
    {
      "cell_type": "markdown",
      "metadata": {
        "id": "view-in-github",
        "colab_type": "text"
      },
      "source": [
        "<a href=\"https://colab.research.google.com/github/jihyun0821/DAOU-FITs-3-PARKJIHYUN/blob/%EC%8B%A4%EC%8A%B5/%5BCS%5D%20250107%20%EC%8B%A4%EC%8A%B5-17%EB%B2%88.ipynb\" target=\"_parent\"><img src=\"https://colab.research.google.com/assets/colab-badge.svg\" alt=\"Open In Colab\"/></a>"
      ]
    },
    {
      "cell_type": "markdown",
      "source": [
        "# 이중 연결리스트 구현"
      ],
      "metadata": {
        "id": "oTxOxsgTbYMl"
      }
    },
    {
      "cell_type": "code",
      "source": [
        "# 사용 예시\n",
        "dll = DoublyLinkedList()\n",
        "dll.append(1)\n",
        "dll.append(2)\n",
        "dll.append(3)\n",
        "dll.prepend(0)\n",
        "dll.display()  # 0 <-> 1 <-> 2 <-> 3 <-> None\n",
        "dll.delete(2)\n",
        "dll.display()  # 0 <-> 1 <-> 3 <-> None"
      ],
      "metadata": {
        "colab": {
          "base_uri": "https://localhost:8080/"
        },
        "id": "GGZyw5SJg4A_",
        "outputId": "fd105271-0ea7-4f57-976c-9a83f6ea02d2"
      },
      "execution_count": null,
      "outputs": [
        {
          "output_type": "stream",
          "name": "stdout",
          "text": [
            "0 <-> 1 <-> 2 <-> 3 <-> None\n",
            "0 <-> 1 <-> 3 <-> None\n"
          ]
        }
      ]
    }
  ]
}
