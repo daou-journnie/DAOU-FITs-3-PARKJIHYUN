{
  "nbformat": 4,
  "nbformat_minor": 0,
  "metadata": {
    "colab": {
      "provenance": [],
      "authorship_tag": "ABX9TyN34kY3opgR9Lacq4lydFdt",
      "include_colab_link": true
    },
    "kernelspec": {
      "name": "python3",
      "display_name": "Python 3"
    },
    "language_info": {
      "name": "python"
    }
  },
  "cells": [
    {
      "cell_type": "markdown",
      "metadata": {
        "id": "view-in-github",
        "colab_type": "text"
      },
      "source": [
        "<a href=\"https://colab.research.google.com/github/jihyun0821/DAOU-FITs-3-PARKJIHYUN/blob/%EC%8B%A4%EC%8A%B5/%5BCS%5D%20250108-%EC%8B%A4%EC%8A%B5%2022%EB%B2%88.ipynb\" target=\"_parent\"><img src=\"https://colab.research.google.com/assets/colab-badge.svg\" alt=\"Open In Colab\"/></a>"
      ]
    },
    {
      "cell_type": "code",
      "execution_count": 5,
      "metadata": {
        "colab": {
          "base_uri": "https://localhost:8080/"
        },
        "id": "_l8VLZXW-O5A",
        "outputId": "3c7a0205-5f3a-460c-adb1-7728b5748f39"
      },
      "outputs": [
        {
          "output_type": "stream",
          "name": "stderr",
          "text": [
            "....\n",
            "----------------------------------------------------------------------\n",
            "Ran 4 tests in 0.008s\n",
            "\n",
            "OK\n"
          ]
        }
      ],
      "source": [
        "# 모듈 코드\n",
        "def add(a, b):\n",
        "    return a + b\n",
        "\n",
        "def subtract(a, b):\n",
        "    return a - b\n",
        "\n",
        "# 테스트 코드\n",
        "if __name__ == '__main__':\n",
        "    import unittest\n",
        "\n",
        "    class TestMathFunctions(unittest.TestCase):\n",
        "        def test_add(self):\n",
        "            self.assertEqual(add(1, 2), 3)\n",
        "\n",
        "        def test_subtract(self):\n",
        "            self.assertEqual(subtract(5, 3), 2)\n",
        "\n",
        "        def test_add_negative(self):\n",
        "            self.assertEqual(add(-1, -2), -3)\n",
        "\n",
        "        def test_subtract_negative(self):\n",
        "            self.assertEqual(subtract(-5, -3), -2)\n",
        "\n",
        "    # 유닛 테스트 실행\n",
        "    unittest.main(argv=[''], exit=False)"
      ]
    }
  ]
}